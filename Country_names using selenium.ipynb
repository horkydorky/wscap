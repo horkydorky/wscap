{
 "cells": [
  {
   "cell_type": "code",
   "execution_count": 47,
   "id": "71ff79d4",
   "metadata": {},
   "outputs": [],
   "source": [
    "from selenium import webdriver\n",
    "from selenium.webdriver.chrome.service import Service\n",
    "import pandas as pd\n",
    "#for doing in .py \n",
    "#import time\n",
    "#time.sleep()"
   ]
  },
  {
   "cell_type": "code",
   "execution_count": 16,
   "id": "a8092c3f",
   "metadata": {},
   "outputs": [],
   "source": [
    "#set path for chrome driver\n",
    "path=r\"C:\\Users\\adhik\\OneDrive\\Desktop\\sele\\chromedriver.exe\"\n"
   ]
  },
  {
   "cell_type": "code",
   "execution_count": 20,
   "id": "811fe073",
   "metadata": {},
   "outputs": [],
   "source": [
    "service=Service(executable_path=path)\n",
    "browser=webdriver.Chrome(service=service)"
   ]
  },
  {
   "cell_type": "code",
   "execution_count": 21,
   "id": "901e290e",
   "metadata": {},
   "outputs": [],
   "source": [
    "url=\"https://www.scrapethissite.com/pages/simple/\"\n",
    "browser.get(url)\n"
   ]
  },
  {
   "cell_type": "code",
   "execution_count": null,
   "id": "f07ada40",
   "metadata": {},
   "outputs": [],
   "source": [
    "#get country names\n",
    "country_list=browser.find_elements(By.CLASS_NAME, \"country-name\")\n",
    "country_list\n",
    "countries=[]\n",
    "for country in country_list:\n",
    "    temp=country.text\n",
    "    countries.append(temp)\n",
    "countries"
   ]
  },
  {
   "cell_type": "code",
   "execution_count": null,
   "id": "775c6009",
   "metadata": {},
   "outputs": [],
   "source": [
    "population_list=browser.find_elements(By.CLASS_NAME, 'country-population')\n",
    "#parse the data\n",
    "population=[]\n",
    "for popl in population_list:\n",
    "   #get text data\n",
    "    tempo=popl.text\n",
    "    population.append(tempo)\n",
    "population"
   ]
  },
  {
   "cell_type": "code",
   "execution_count": 41,
   "id": "f85607dd",
   "metadata": {},
   "outputs": [],
   "source": [
    "data=pd.DataFrame()\n",
    "data['country']=countries\n",
    "data['population']=population"
   ]
  },
  {
   "cell_type": "code",
   "execution_count": 42,
   "id": "d98e3264",
   "metadata": {},
   "outputs": [],
   "source": [
    "dataa=data.sort_values(by='population', ascending=False)\n"
   ]
  },
  {
   "cell_type": "code",
   "execution_count": 43,
   "id": "1ecc3a36",
   "metadata": {},
   "outputs": [],
   "source": [
    "dataa.to_csv('Population of countries in descending order.csv')"
   ]
  },
  {
   "cell_type": "code",
   "execution_count": 49,
   "id": "6df80ee1",
   "metadata": {},
   "outputs": [],
   "source": [
    "data=data.sort_values(by='country')\n",
    "data.to_csv('countries with their population(alphabetic order).csv')"
   ]
  },
  {
   "cell_type": "code",
   "execution_count": 45,
   "id": "9b59d4d3",
   "metadata": {},
   "outputs": [],
   "source": [
    "#close driver"
   ]
  },
  {
   "cell_type": "code",
   "execution_count": 46,
   "id": "270a602d",
   "metadata": {},
   "outputs": [],
   "source": [
    "browser.quit()"
   ]
  },
  {
   "cell_type": "code",
   "execution_count": null,
   "id": "c94186a9",
   "metadata": {},
   "outputs": [],
   "source": []
  }
 ],
 "metadata": {
  "kernelspec": {
   "display_name": "venv",
   "language": "python",
   "name": "python3"
  },
  "language_info": {
   "codemirror_mode": {
    "name": "ipython",
    "version": 3
   },
   "file_extension": ".py",
   "mimetype": "text/x-python",
   "name": "python",
   "nbconvert_exporter": "python",
   "pygments_lexer": "ipython3",
   "version": "3.13.4"
  }
 },
 "nbformat": 4,
 "nbformat_minor": 5
}
